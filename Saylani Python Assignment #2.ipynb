{
 "cells": [
  {
   "cell_type": "code",
   "execution_count": 6,
   "metadata": {},
   "outputs": [
    {
     "name": "stdout",
     "output_type": "stream",
     "text": [
      "\t*****First Semester Grading*****\n",
      "\t---------*************-----------\n",
      "\n",
      "Student Name: Nasir\n",
      "\n",
      "Student Father's Name: Muhammad Mumtaz Khan\n",
      "\n",
      "Student Department: Statistics\n",
      "\n",
      "Student Roll Number: 12345\n",
      "\n",
      "Marks of English subject: 88\n",
      "\n",
      "Marks of Math subject: 90\n",
      "\n",
      "Marks of Statistics subject: 75\n",
      "\n",
      "Marks of Geography subject: 92\n",
      "\n",
      "Marks of Urdu subject: 55\n",
      "Your Grade is : A.0ne\n",
      "Your Percentage is: 80.0\n",
      "Your Average Marks is: 80.0\n",
      "\n",
      "Congragulations\n"
     ]
    }
   ],
   "source": [
    "#Write a program which takes 5 inputs from user for different subject’s marks, total it and generate mark sheet using grades ?\n",
    "\n",
    "print('\\t*****First Semester Grading*****')\n",
    "print(\"\\t---------*************-----------\")\n",
    "print()\n",
    "first_name = input(\"Student Name: \")\n",
    "print()\n",
    "father_name = input(\"Student Father's Name: \")\n",
    "print()\n",
    "department = input(\"Student Department: \")\n",
    "print()\n",
    "roll_number = input(\"Student Roll Number: \")\n",
    "print()\n",
    "subject1=int(input(\"Marks of English subject: \"))\n",
    "print()\n",
    "subject2=int(input(\"Marks of Math subject: \"))\n",
    "print()\n",
    "subject3=int(input(\"Marks of Statistics subject: \"))\n",
    "print()\n",
    "subject4=int(input(\"Marks of Geography subject: \"))\n",
    "print()\n",
    "subject5=int(input(\"Marks of Urdu subject: \"))\n",
    "\n",
    "\n",
    "greetings = (\"Congragulations\")\n",
    "print()\n",
    "comment = (\" Sorry Better Luck Next Time\")\n",
    "print()\n",
    "total = (subject1+subject2+subject3+subject4+subject5)\n",
    "print()\n",
    "average = (total)/5\n",
    "print()\n",
    "percentage = (total/500)*100\n",
    "\n",
    "if(percentage >= 80):\n",
    "    print(\"Your Grade is : A.0ne\")\n",
    "    print('Your Percentage is:' , percentage)\n",
    "    print(\"Your Average Marks is:\" , average)\n",
    "    print()\n",
    "    print(greetings)\n",
    "   \n",
    "elif(percentage >= 70 and percentage < 80 ):\n",
    "    print(\"Your Grade is : A\")\n",
    "    print('Your Percentage is:' , percentage)\n",
    "    print(\"Your Average Marks is:\" , average)\n",
    "    print()\n",
    "    print(greetings)\n",
    "    \n",
    "elif(percentage >= 60 and percentage < 70 ):\n",
    "    print(\"Your Grade is : B\")\n",
    "    print('Your Percentage is:' , percentage)\n",
    "    print(\"Your Average Marks is:\" , average)\n",
    "    print()\n",
    "    print(greetings)\n",
    "    \n",
    "else:\n",
    "    print(\"Your Grade is : C\")\n",
    "    print('Your Percentage is:' , percentage)\n",
    "    print(\"Your Average Marks is:\" , average)\n",
    "    print()\n",
    "    print(comment)"
   ]
  },
  {
   "cell_type": "code",
   "execution_count": 5,
   "metadata": {},
   "outputs": [
    {
     "name": "stdout",
     "output_type": "stream",
     "text": [
      "Sample Output 1: \n",
      "Enter number: 8\n",
      "8 is Even\n",
      "\n",
      "Sample Output 2: \n",
      "Enter number: 5\n",
      "5 is Odd\n"
     ]
    }
   ],
   "source": [
    "#Write a program which take input from user and identify that the given number is even or odd?\n",
    "print(\"Sample Output 1: \")\n",
    "x=int(input(\"Enter number: \"))\n",
    "if x % 2 == 0:\n",
    "    print(x,'is Even')\n",
    "else:\n",
    "    print(x,'is Odd')\n",
    "print()\n",
    "print(\"Sample Output 2: \")\n",
    "x=int(input(\"Enter number: \"))\n",
    "if x % 2 == 0:\n",
    "    print(x,'is Even')\n",
    "else:\n",
    "    print(x,'is Odd')"
   ]
  },
  {
   "cell_type": "code",
   "execution_count": 4,
   "metadata": {},
   "outputs": [
    {
     "name": "stdout",
     "output_type": "stream",
     "text": [
      "The Lenght of Current List is:-  11\n"
     ]
    }
   ],
   "source": [
    "#Write a program which print the length of the list?\n",
    "a = [1, 1, 2, 3, 5, 8, 13, 21, 34, 55, 89]\n",
    "print(\"The Lenght of Current List is:- \", len(a))"
   ]
  },
  {
   "cell_type": "code",
   "execution_count": 18,
   "metadata": {},
   "outputs": [
    {
     "name": "stdout",
     "output_type": "stream",
     "text": [
      "232\n"
     ]
    }
   ],
   "source": [
    "#Write a Python program to sum all the numeric items in a list?\n",
    "a = [1, 1, 2, 3, 5, 8, 13, 21, 34, 55, 89]\n",
    "def sum_list(a):\n",
    "    sum_numbers = 0\n",
    "    for x in a:\n",
    "        sum_numbers += x\n",
    "    return sum_numbers\n",
    "print(sum_list(a))\n"
   ]
  },
  {
   "cell_type": "code",
   "execution_count": 13,
   "metadata": {},
   "outputs": [
    {
     "name": "stdout",
     "output_type": "stream",
     "text": [
      "The Largest Number in a List is:-  89\n"
     ]
    }
   ],
   "source": [
    "#Write a Python program to get the largest number from a numeric list.\n",
    "a = [1, 1, 2, 3, 5, 8, 13, 21, 34, 55, 89]\n",
    "print(\"The Largest Number in a List is:- \", max(a))"
   ]
  },
  {
   "cell_type": "code",
   "execution_count": 16,
   "metadata": {},
   "outputs": [
    {
     "name": "stdout",
     "output_type": "stream",
     "text": [
      "1\n",
      "1\n",
      "2\n",
      "3\n"
     ]
    }
   ],
   "source": [
    "#Take a list, say for example this one:\n",
    "#a = [1, 1, 2, 3, 5, 8, 13, 21, 34, 55, 89]\n",
    "#and write a program that prints out all the elements of the list that are\n",
    "#less than 5.\n",
    "a = [1, 1, 2, 3, 5, 8, 13, 21, 34, 55, 89]\n",
    "for i in a:\n",
    "    if i < 5:\n",
    "        print (i)"
   ]
  },
  {
   "cell_type": "code",
   "execution_count": null,
   "metadata": {},
   "outputs": [],
   "source": []
  }
 ],
 "metadata": {
  "kernelspec": {
   "display_name": "Python 3",
   "language": "python",
   "name": "python3"
  },
  "language_info": {
   "codemirror_mode": {
    "name": "ipython",
    "version": 3
   },
   "file_extension": ".py",
   "mimetype": "text/x-python",
   "name": "python",
   "nbconvert_exporter": "python",
   "pygments_lexer": "ipython3",
   "version": "3.7.3"
  }
 },
 "nbformat": 4,
 "nbformat_minor": 2
}
