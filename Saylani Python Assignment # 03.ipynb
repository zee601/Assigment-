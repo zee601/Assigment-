{
 "cells": [
  {
   "cell_type": "code",
   "execution_count": 24,
   "metadata": {},
   "outputs": [
    {
     "name": "stdout",
     "output_type": "stream",
     "text": [
      "\n",
      "Please type in the math operation you would like to complete:\n",
      "+ for addition\n",
      "- for subtraction\n",
      "* for multiplication\n",
      "/ for division\n",
      "** for power\n",
      "/\n",
      "Enter your first number: 5\n",
      "Enter your second number: 5\n",
      "5 / 5 = \n",
      "1.0\n"
     ]
    }
   ],
   "source": [
    "#Make a calculator using Python with addition , subtraction , multiplication , division and power.\n",
    "operation = input('''\n",
    "Please type in the math operation you would like to complete:\n",
    "+ for addition\n",
    "- for subtraction\n",
    "* for multiplication\n",
    "/ for division\n",
    "** for power\n",
    "''')\n",
    "\n",
    "\n",
    "\n",
    "num1 = int(input('Enter your first number: '))\n",
    "num2 = int(input('Enter your second number: '))\n",
    "\n",
    "\n",
    "if operation == \"+\":\n",
    "    print('{} + {} = '.format(num1, num2))\n",
    "    print(num1 + num2)\n",
    "elif operation ==\"-\":\n",
    "    print('{} - {} = '.format(num1, num2))\n",
    "    print(num1 - num2)\n",
    "elif operation ==\"*\":\n",
    "    print('{} * {} = '.format(num1, num2))\n",
    "    print(num1 * num2)\n",
    "elif operation ==\"/\":\n",
    "    print('{} / {} = '.format(num1, num2))\n",
    "    print(num1 / num2)\n",
    "elif operation ==\"**\":\n",
    "    print('{} ** {} = '.format(num1, num2))\n",
    "    print(num1 ** num2)\n",
    "else:\n",
    "    print(\"invalid operation\")\n"
   ]
  },
  {
   "cell_type": "code",
   "execution_count": 4,
   "metadata": {},
   "outputs": [
    {
     "name": "stdout",
     "output_type": "stream",
     "text": [
      "1 is a numeric value\n",
      "orange is a stirng\n",
      "2.5 is a float\n",
      "3 is a numeric value\n",
      "4 is a numeric value\n",
      "apple is a stirng\n"
     ]
    }
   ],
   "source": [
    "#Write a program to check if there is any numeric value in list using for loop\n",
    "\n",
    "mylist=[1, 'orange',2.5 , 3, 4, 'apple']\n",
    "\n",
    "for numeric_value in mylist:\n",
    "    if type (numeric_value)== int:\n",
    "        print(numeric_value, \"is a numeric value\")\n",
    "    elif type(numeric_value)==float:\n",
    "        print(numeric_value, \"is a float\")\n",
    "    else:\n",
    "        print(numeric_value, \"is a stirng\")"
   ]
  },
  {
   "cell_type": "code",
   "execution_count": 1,
   "metadata": {},
   "outputs": [
    {
     "name": "stdout",
     "output_type": "stream",
     "text": [
      "Current Dict is:  {'key1': 'geeks', 'key2': 'fill_me'}\n",
      "Updated Dict is:  {'key1': 'geeks', 'key2': 'for', 'key3': 'geeks'}\n"
     ]
    }
   ],
   "source": [
    "#Write a Python script to add a key to a dictionary\n",
    "dict = {'key1':'geeks', 'key2':'fill_me'} \n",
    "print(\"Current Dict is: \", dict) \n",
    "  \n",
    "\n",
    "dict['key2'] = 'for'\n",
    "dict['key3'] = 'geeks'\n",
    "print(\"Updated Dict is: \", dict) \n"
   ]
  },
  {
   "cell_type": "code",
   "execution_count": 7,
   "metadata": {},
   "outputs": [
    {
     "name": "stdout",
     "output_type": "stream",
     "text": [
      "75\n"
     ]
    }
   ],
   "source": [
    "#Write a Python program to sum all the numeric items in a dictionary\n",
    "dictionary={\"player1\":10, \"player2\":25, \"player3\":18, \"player4\":22}\n",
    "print(sum(dictionary.values()))\n"
   ]
  },
  {
   "cell_type": "code",
   "execution_count": 9,
   "metadata": {},
   "outputs": [
    {
     "name": "stdout",
     "output_type": "stream",
     "text": [
      "[2, 4, 10, 20, 5]\n"
     ]
    }
   ],
   "source": [
    "#Write a program to identify duplicate values from list\n",
    "def Remove(duplicate): \n",
    "    final_list = [] \n",
    "    for num in duplicate: \n",
    "        if num not in final_list: \n",
    "            final_list.append(num) \n",
    "    return final_list \n",
    "      \n",
    " \n",
    "duplicate = [2, 4, 10, 20, 5, 2, 20, 4] \n",
    "print(Remove(duplicate))"
   ]
  },
  {
   "cell_type": "code",
   "execution_count": 21,
   "metadata": {},
   "outputs": [
    {
     "name": "stdout",
     "output_type": "stream",
     "text": [
      "Enter key to check:A\n",
      "Key is present and value of the key is:\n",
      "1\n"
     ]
    }
   ],
   "source": [
    "#Write a Python script to check if a given key already exists in a dictionary\n",
    "d={'A':1,'B':2,'C':3}\n",
    "key=input(\"Enter key to check:\")\n",
    "if key in d.keys():\n",
    "      print(\"Key is present and value of the key is:\")\n",
    "      print(d[key])\n",
    "else:\n",
    "      print(\"Key isn't present!\")\n"
   ]
  },
  {
   "cell_type": "code",
   "execution_count": null,
   "metadata": {},
   "outputs": [],
   "source": []
  }
 ],
 "metadata": {
  "kernelspec": {
   "display_name": "Python 3",
   "language": "python",
   "name": "python3"
  },
  "language_info": {
   "codemirror_mode": {
    "name": "ipython",
    "version": 3
   },
   "file_extension": ".py",
   "mimetype": "text/x-python",
   "name": "python",
   "nbconvert_exporter": "python",
   "pygments_lexer": "ipython3",
   "version": "3.7.3"
  }
 },
 "nbformat": 4,
 "nbformat_minor": 2
}
