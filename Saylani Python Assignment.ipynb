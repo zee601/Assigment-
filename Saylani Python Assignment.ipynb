{
 "cells": [
  {
   "cell_type": "markdown",
   "metadata": {},
   "source": [
    "# Saylani Assignment#01"
   ]
  },
  {
   "cell_type": "code",
   "execution_count": 1,
   "metadata": {},
   "outputs": [
    {
     "name": "stdout",
     "output_type": "stream",
     "text": [
      "Twinkle, twinkle, little star,\n",
      "\tHow I wonder what you are!\n",
      "\t\tUp above the world so high,\n",
      "\t\tLike a diamond in the sky.\n",
      "Twinkle, twinkle, little star,\n",
      "\tHow I wonder what you are\n"
     ]
    }
   ],
   "source": [
    "#Write a Python program to print the following string in a specific format(see the output).\n",
    "\n",
    "\n",
    "#Twinkle, twinkle, little star,\n",
    "#    How I wonder what you are!\n",
    "#        Up above the world so high,\n",
    "#       Like a diamond in the sky.\n",
    "#Twinkle, twinkle, little star,\n",
    "#How I wonder what you are\n",
    "\n",
    "\n",
    "\n",
    "\n",
    "print(\"Twinkle, twinkle, little star,\\n\\tHow I wonder what you are!\\n\\t\\tUp above the world so high,\\n\\t\\tLike a diamond in the sky.\\nTwinkle, twinkle, little star,\\n\\tHow I wonder what you are\")"
   ]
  },
  {
   "cell_type": "code",
   "execution_count": 8,
   "metadata": {},
   "outputs": [
    {
     "name": "stdout",
     "output_type": "stream",
     "text": [
      "3.7.3\n"
     ]
    }
   ],
   "source": [
    "#Write a Python program to get the Python version you are using\n",
    "import platform\n",
    "print(platform.python_version())\n",
    "\n"
   ]
  },
  {
   "cell_type": "code",
   "execution_count": 3,
   "metadata": {},
   "outputs": [
    {
     "name": "stdout",
     "output_type": "stream",
     "text": [
      "Mon Nov  4 20:22:44 2019\n",
      "11/04/19\n",
      "20:22:44\n"
     ]
    }
   ],
   "source": [
    "#Write a Python program to display the current date and time.\n",
    "from datetime import datetime\n",
    "now=datetime.now()\n",
    "print(now.strftime(\"%c\"))\n",
    "print(now.strftime(\"%x\"))\n",
    "print(now.strftime(\"%X\"))\n",
    "\n"
   ]
  },
  {
   "cell_type": "code",
   "execution_count": 4,
   "metadata": {},
   "outputs": [
    {
     "name": "stdout",
     "output_type": "stream",
     "text": [
      "Please enter the radius: 2\n",
      "Area of Cirlce with radious 2.0 is 12.571428571428571\n"
     ]
    }
   ],
   "source": [
    "#Write a Python program which accepts the radius of a circle from the user and compute the area.\n",
    "\n",
    "radius=float(input(\"Please enter the radius: \"))\n",
    "area=(22/7)*(radius**2)\n",
    "print(\"Area of Cirlce with radious\", radius,\"is\", area)"
   ]
  },
  {
   "cell_type": "code",
   "execution_count": 5,
   "metadata": {},
   "outputs": [
    {
     "name": "stdout",
     "output_type": "stream",
     "text": [
      "Enter your first name: Nasir\n",
      "Enter you last name: Mumtaz\n",
      "Hello Mumtaz Nasir\n"
     ]
    }
   ],
   "source": [
    "#Write a Python program which accepts the user's first and last name and print them in reverse order with a space between them.\n",
    "first_name= input(\"Enter your first name: \")\n",
    "last_name= input(\"Enter you last name: \")\n",
    "print(\"Hello\", last_name, first_name)\n"
   ]
  },
  {
   "cell_type": "code",
   "execution_count": 6,
   "metadata": {},
   "outputs": [
    {
     "name": "stdout",
     "output_type": "stream",
     "text": [
      "Please enter your first number: 5\n",
      "Please enter your second number: 9\n",
      "The answer is 14\n"
     ]
    }
   ],
   "source": [
    "#Write a python program which takes two inputs from user and print them addition\n",
    "\n",
    "input1= int(input(\"Please enter your first number: \"))\n",
    "input2=int(input(\"Please enter your second number: \"))\n",
    "answer=input1+input2\n",
    "print(\"The answer is\", answer)"
   ]
  },
  {
   "cell_type": "code",
   "execution_count": null,
   "metadata": {},
   "outputs": [],
   "source": []
  },
  {
   "cell_type": "code",
   "execution_count": 7,
   "metadata": {
    "scrolled": true
   },
   "outputs": [
    {
     "data": {
      "text/plain": [
       "4"
      ]
     },
     "execution_count": 7,
     "metadata": {},
     "output_type": "execute_result"
    }
   ],
   "source": [
    "\n"
   ]
  },
  {
   "cell_type": "code",
   "execution_count": null,
   "metadata": {},
   "outputs": [],
   "source": []
  }
 ],
 "metadata": {
  "kernelspec": {
   "display_name": "Python 3",
   "language": "python",
   "name": "python3"
  },
  "language_info": {
   "codemirror_mode": {
    "name": "ipython",
    "version": 3
   },
   "file_extension": ".py",
   "mimetype": "text/x-python",
   "name": "python",
   "nbconvert_exporter": "python",
   "pygments_lexer": "ipython3",
   "version": "3.7.3"
  }
 },
 "nbformat": 4,
 "nbformat_minor": 2
}
